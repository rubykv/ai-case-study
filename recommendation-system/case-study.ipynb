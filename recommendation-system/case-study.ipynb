{
 "cells": [
  {
   "cell_type": "markdown",
   "metadata": {},
   "source": [
    "# Content\n",
    "\n",
    "1. Recommendation Systems\n",
    "2. Content Based Filtering\n",
    "    1. TF-IDF Vectorization\n",
    "    2. Cosine Similarity\n",
    "3. Collaborative Filtering\n",
    "    1. Matrix Factorization\n",
    "\n"
   ]
  },
  {
   "cell_type": "markdown",
   "metadata": {},
   "source": [
    "# Recommendation Systems\n",
    "\n",
    "**What are Recommendation Systems?**\n",
    "\n",
    "Recommendation systems date back to the early 90's where they were first developed by researchers to suggest important documents to the readers based on the review ratings provided by other users.\n",
    "\n",
    "It became mainstream after tech giants like Google, Amazon, Netflix, Spotify and others integrated it with their systems to recommend relevant content and products to the users. Especially as personalized recommendations gained traction so did recommendation system algorithms.\n",
    "\n",
    "These systems are behind suggesting movies, ads, youtube videos, music to the users based on their interests or we can say based on their predicted interests. \n",
    "\n",
    "Easier said than done, it's not easy for a computer to figure out what hooks a user to a particular video or movie - is it the lead actor, story line, timepass, curiosity etc etc.\n",
    "\n",
    "Using maths as a tool, researchers have been able to predict user's interest based on explicit reviews or by collecting information from similar users or using metadata like watch time, clicks etc (implicit review).\n",
    "\n",
    "In this case study, we analyze two of the most popular approaches used in recommendation systems.\n",
    " 1. Content-Based Filtering\n",
    " 2. Collaborative Filtering\n",
    "\n",
    "But, before we get into the specifics of these approaches,let's analyze all the known options available to implement these systems.\n",
    "\n",
    "**Different Types of Recommendation Systems**\n",
    "\n",
    "For large size applications like youtube, netflix etc. the recommendation system cannot rely on one approach. As one might have noticed on the Netflix home page, there are different categories of suggestions - one based on view history, other based on popularity, another one based on similar interests etc. On the other hand on youtube we generally get more recommendations based on our view history. Both these systems use a hybrid method of recommendation systems plus neural networks to add additional context while predicting a new favorite.\n",
    "\n",
    "For a far more simpler use case like a small business that sells a few products to a limited number of users, a simple collaborative filtering approach might work.\n",
    "\n",
    "Just like any other technology in use today, depending on the specific use case, engineers will have to pick a suitable method.\n",
    "\n",
    "A few different approaches that are available today are:\n",
    "1. Content-Based Filtering: Recommend products that are similar to the one user liked/watched/purchased.\n",
    "2. Collaborative Filtering: Recommend products that users with similar interest are watching / buying.\n",
    "3. Hybrid Methods: Using both the approaches mentioned in #1 and #2.\n",
    "4. Deep Learning-Based Methods: Neural Collaborative Filtering: Uses neural networks to model user-item interactions more complexly and accurately. eg.Autoencoders\n",
    "(This was first tried by Amazon and won them an award https://www.amazon.science/the-history-of-amazons-recommendation-algorithm)\n",
    "5. Context-Aware Recommendations: Incorporates additional context (e.g., time, location, device) to enhance recommendations. For example, suggesting different types of restaurants based on the time of day.\n",
    "\n",
    "Apart from these approaches there are also a few lesser known/discussed techniques like,\n",
    "1. Rule-Based Filtering:  Uses domain-specific rules and knowledge to make recommendations. For example, a travel recommendation system might suggest destinations based on the user's preferences and constraints.**This can also be integrated as an additional step on top of the filtering methods discussed earlier**\n",
    "2. Association Rule Mining / Apriori Algorithm:Identifies frequent item sets and generates association rules to suggest items that are often bought together."
   ]
  },
  {
   "cell_type": "markdown",
   "metadata": {},
   "source": [
    "\n",
    "## Content Based Filtering \n",
    "\n",
    "Most basic and yet effective form of a recommendation system can be built using content based filtering. Base concept here is - suggest items that are similar to the items user has previously engaged with. For example - If someone buys \"The Alchemist\" by Paulo Coelho, also suggest other books that falls under the same genre.\n",
    "\n",
    "Implementing a content based filtering system involves two main steps - one is to analyze and make sense of the data and second is to find data that are similar to each other.\n",
    "\n",
    "Making sense of the data is achieved using TF-IDF vectorization and similarity can be measured using cosine similarity, euclidean distance etc.\n",
    "\n",
    "Let's take a look at each of these techniques one by one.\n"
   ]
  },
  {
   "cell_type": "markdown",
   "metadata": {},
   "source": [
    "### TF-IDF Vectorization\n",
    "\n",
    "TF-IDF (Term Frequency-Inverse Document Frequency) calculates the frequency of a word in a given document and estimates its importance with respect to the given collection of documents. \n",
    "\n",
    "Using this technique, we can create embeddings of a given text data.\n",
    "\n",
    "However, its important to note that TF-IDF is a shallow, count-based method. It captures the importance of words in a document but doesn’t capture the semantic relationships between words as effectively as more sophisticated methods like BERT, GloVe etc. So, this technique is useful for simpler models and tasks.\n",
    "\n",
    "This statistics(TF-IDF) is calculated using below given formula - \n",
    "```TF-IDF(t,d,D)=TF(t,d)×IDF(t,D)```\n",
    "\n",
    "1. **Term Frequency (TF):**\n",
    "TF(t,d)= Total number of terms in document d / Number of times term t appears in document d - (1)\n",
    "​\n",
    "2. **Inverse Document Frequency (IDF):**\n",
    "IDF(t,D)=log((Total number of documents in the corpus/Number of documents containing term t) + 1) - (2)\n",
    "\n",
    "**TF-IDF score = product of (1) and (2)**\n",
    "\n",
    "Run the below code cell and verify the generated embeddings vector."
   ]
  },
  {
   "cell_type": "code",
   "execution_count": 1,
   "metadata": {},
   "outputs": [
    {
     "name": "stdout",
     "output_type": "stream",
     "text": [
      "        cat    chased       dog       log       mat     mouse        on  \\\n",
      "0  0.374207  0.000000  0.000000  0.000000  0.492038  0.000000  0.374207   \n",
      "1  0.000000  0.000000  0.468699  0.468699  0.000000  0.000000  0.356457   \n",
      "2  0.381519  0.501651  0.000000  0.000000  0.000000  0.501651  0.000000   \n",
      "\n",
      "        sat       the  \n",
      "0  0.374207  0.581211  \n",
      "1  0.356457  0.553642  \n",
      "2  0.000000  0.592567  \n"
     ]
    }
   ],
   "source": [
    "from sklearn.feature_extraction.text import TfidfVectorizer\n",
    "\n",
    "# Example documents\n",
    "documents = [\n",
    "    \"The cat sat on the mat.\",\n",
    "    \"The dog sat on the log.\",\n",
    "    \"The cat chased the mouse.\"\n",
    "]\n",
    "\n",
    "# Initialize the TfidfVectorizer\n",
    "tfidf = TfidfVectorizer()\n",
    "\n",
    "# Fit and transform the documents to get the TF-IDF matrix\n",
    "tfidf_matrix = tfidf.fit_transform(documents)\n",
    "\n",
    "# Convert the matrix to a pandas DataFrame for better readability\n",
    "import pandas as pd\n",
    "tfidf_df = pd.DataFrame(tfidf_matrix.toarray(), columns=tfidf.get_feature_names_out())\n",
    "\n",
    "print(tfidf_df)"
   ]
  },
  {
   "cell_type": "markdown",
   "metadata": {},
   "source": [
    "\n",
    "### Cosine Similarity\n",
    "\n",
    "Once the embeddings are generated(TF-IDF Vectorization), we would need to figure out a way to measure the distance between any two embeddings in the vector space. \n",
    "\n",
    "Let's see how this works.\n",
    "\n",
    "Consider 2 sentences - inputs A and B,\n",
    "1. A = Love you\n",
    "2. B = Love\n",
    "\n",
    "Now, we can represent these sentences in a matrix and translate to 0 and 1,  \n",
    "1. Collect all the words from the two sentences and each word becomes the column\n",
    "2. Next the sentences themselves become the rows\n",
    "\n",
    "Now, for each sentence,if the word mentioned in the column is present in the sentence, mark it as 1 else mark it 0. So, the above two examples can be added to a matrix as shown below,\n",
    "```\n",
    "  Love | You\n",
    "A  1     1\n",
    "B  1     0\n",
    "\n",
    "```\n",
    "\n",
    "Now, if we mark these values on a 2 dimensional graph ( each dimension represents a word from the example, as our examples have maximum 2 words we represent the data in a 2 dimensonal graph), we would get a graph like this - red represents A and green represents B\n",
    "\n",
    "![split data](images/cosine.png)\n",
    "\n",
    "\n",
    "As seen in the graph, we have converted sentences into embeddings and marked them in the graph. Our next goal is to figure out how similar these two marked embeddings are? We get that by finding the cosine of angle between the two points A and B. Value of cos(45 degree) is approximately 0.7071. \n",
    "\n",
    "A similar approach is used to find the cosine similarity between two inputs(embeddings) in a high-dimensional space. \n",
    "\n",
    "It's easy to find the angle on a graph(with a few dimensions) but in statistics we will use a formula to find this.\n",
    "\n",
    "$$\n",
    "\\text{Cosine Similarity} = \\frac{ \\mathbf{A} \\cdot \\mathbf{B} }{ \\| \\mathbf{A} \\| \\| \\mathbf{B} \\| }\n",
    "$$\n",
    "\n",
    "The above formula for cosine similarity can also be expressed in terms of a summation.\n",
    "\n",
    "$$\n",
    "\\frac{ \\sum_{i=1}^{n} A_i B_i }{ \\sqrt{ \\sum_{i=1}^{n} A_i^2 } \\sqrt{ \\sum_{i=1}^{n} B_i^2 } }\n",
    "$$\n",
    "\n",
    "Next, using the numerical values of A and B, let's try to find the cosine similarity between the two inputs using the cosine similarity formula - run the code cell below and compare the results with value of cos(45 degree) that we calculated earlier."
   ]
  },
  {
   "cell_type": "code",
   "execution_count": 2,
   "metadata": {},
   "outputs": [
    {
     "data": {
      "text/plain": [
       "0.7071067811865475"
      ]
     },
     "execution_count": 2,
     "metadata": {},
     "output_type": "execute_result"
    }
   ],
   "source": [
    "import math\n",
    "\n",
    "((1*1) + (1*0))/(math.sqrt(math.pow(1,2) + math.pow(1,2)) * math.sqrt(math.pow(1,2) + math.pow(0,2))) "
   ]
  },
  {
   "cell_type": "markdown",
   "metadata": {},
   "source": [
    "Let's run the same logic using functions from numpy library. \n",
    "\n",
    "numpy also provides a built-in function to effortlessly measure cosine similarity between two vectors but let's use that in the main example."
   ]
  },
  {
   "cell_type": "code",
   "execution_count": 2,
   "metadata": {},
   "outputs": [
    {
     "data": {
      "text/plain": [
       "0.7071067811865475"
      ]
     },
     "execution_count": 2,
     "metadata": {},
     "output_type": "execute_result"
    }
   ],
   "source": [
    "import numpy as np\n",
    "\n",
    "# Define two vectors\n",
    "vector_a = np.array([1, 1])\n",
    "vector_b = np.array([1, 0])\n",
    "\n",
    "# Compute cosine similarity\n",
    "np.dot(vector_a, vector_b) / (np.linalg.norm(vector_a) * np.linalg.norm(vector_b))"
   ]
  },
  {
   "cell_type": "markdown",
   "metadata": {},
   "source": [
    "Now that we understand both vectorization and cosine similarity, let's try to implement content based filtering. \n",
    "\n",
    "For demo purposes, we have created a small set of synthetic data that consists of movie id's and their corresponding genres. Firstly we would get the embeddings of genres, then using the same embeddings matrix we extract user_movies matrix by keeping the titles that user has already watched and then compare the two matrices to get the similarity score of each title.\n",
    "\n",
    "To get the final output, we are only considering movies that have a similarity score of 1.0 but that's just for demo purposes, ideally anything closer to 1 should be good enough for recommendation."
   ]
  },
  {
   "cell_type": "code",
   "execution_count": 3,
   "metadata": {},
   "outputs": [
    {
     "name": "stdout",
     "output_type": "stream",
     "text": [
      "[[0.         0.70710678 0.70710678]]\n",
      "  title-id   genres  similarity\n",
      "0       61  Rom-Com         1.0\n",
      "1      302   Action         0.0\n",
      "2       31  Rom-Com         1.0\n",
      "3      311   Action         0.0\n",
      "  title-id  similarity\n",
      "2       31         1.0\n"
     ]
    }
   ],
   "source": [
    "import pandas as pd\n",
    "from sklearn.feature_extraction.text import TfidfVectorizer\n",
    "from sklearn.metrics.pairwise import cosine_similarity\n",
    "import numpy as np\n",
    "\n",
    "# Example data\n",
    "movies = pd.DataFrame({\n",
    "            'title-id': ['61', '302', '31', '311'],\n",
    "            'genres': ['Rom-Com', 'Action', 'Rom-Com', 'Action']\n",
    "        })\n",
    "\n",
    "#fetch movies watched by user from DB\n",
    "user_movies = ['61']\n",
    "\n",
    "tfidf = TfidfVectorizer(stop_words='english')\n",
    "tfidf_matrix = tfidf.fit_transform(movies['genres'])\n",
    "user_profile = tfidf_matrix[movies['title-id'].isin(user_movies)].mean(axis=0)\n",
    "\n",
    "similarity_scores = cosine_similarity(np.asarray(user_profile), tfidf_matrix)\n",
    "movies['similarity'] = similarity_scores.flatten()\n",
    "print(movies)\n",
    "recommended_movies = movies[(~movies['title-id'].isin(user_movies)) & movies['similarity'] == 1.0].sort_values(by='similarity', ascending=False)\n",
    "print(\"Final Output\")\n",
    "print(recommended_movies[['title-id', 'similarity']])"
   ]
  },
  {
   "cell_type": "markdown",
   "metadata": {},
   "source": [
    "## Collaborative Filtering\n",
    "\n",
    "As seen earlier, content based recommendations are efficient but have their limitations, for example, in a movie recommendation system it would not make sense to just recommend movies based on what the user has already watched. The system will have to suggest something different or surprise the user with something out of the routine every now and then. For these purposes, we need a technique other than content based recommendations. \n",
    "\n",
    "This is where collaborative filtering becomes useful.\n",
    "\n",
    "Two prominent types of collaborative filtering are:\n",
    "\n",
    "1. User-User Collaborative Filtering: Finds similar users to the target user and recommends items that those users liked.\n",
    "2. Item-Item Collaborative Filtering: Finds items similar users have bought and suggest them.\n",
    "\n",
    "Another technique from statistics is used to make this type of filtering possible. Let's take a look at that before we get into the filtering itself.\n",
    "\n",
    "### Matrix Factorization: \n",
    "The basic idea is to decompose a matrix into the product of two or more matrices, typically with lower dimensions.\n",
    "\n",
    "**What is Factorization?**\n",
    "\n",
    "Let's take a quadratic polynomial as an example,\n",
    "$$\n",
    " ( x^2 - 5x + 6 ).\n",
    "$$\n",
    "\n",
    "The above given equation can be factored into the product of two linear factors as shown below\n",
    "$$\n",
    "x^2 - 5x + 6 = (x - 2)(x - 3)\n",
    "$$\n",
    "\n",
    "So, factorization is a way to extract the factors such that the factors can be multiplied together to obtain the original polynomial.\n",
    "\n",
    "                                        --------------------                                                                                    \n",
    "\n",
    "In recommendation systems, matrix factorization can be used to predict missing entries in a user-item interaction matrix by decomposing it into a user-feature matrix and an item-feature matrix. This approach is purely algebraic and does not involve neural networks.\n",
    "\n",
    "For example, in the case of movie recommendation system, the data we initially work on to implement a collabotive filtering technique would be a review matrix. That is, user ids, movie ids and the ratings user gave to the movies. \n",
    "\n",
    "It's easy to figure out that this matrix would be sparsely populated, that is, compared to the number of movies there are versus how many one would have watched and properly reviewed can only give us a rarely populated matrix. So, we use matrix factorization to extract values from the entries there are and then using those extracted factors predict the ratings of movies for which the initial data did not have entries.\n",
    "\n",
    "Techniques like Singular Value Decomposition (SVD) and Alternating Least Squares (ALS) decompose the user-item interaction matrix to find latent factors that explain user preferences. In this case study, we will be using SVD."
   ]
  },
  {
   "cell_type": "markdown",
   "metadata": {},
   "source": [
    "Multiple Python based libraries are available to implement these techniques, the one we will be using here is Surprise library. Surprise is a Python scikit for building and analyzing recommender systems that deal with explicit rating data.\n",
    "\n",
    "Now that we have established all the building blocks, let's implement a Recommendation system based on Collaborative filtering. We could generate our own synthetic data and import it to the program in many different ways but for the convenience of using readily available data, we will be using built-in movie rating dataset provided by Surprise library."
   ]
  },
  {
   "cell_type": "code",
   "execution_count": 9,
   "metadata": {},
   "outputs": [
    {
     "name": "stdout",
     "output_type": "stream",
     "text": [
      "Predicted Rating: 4.351118802827308\n"
     ]
    }
   ],
   "source": [
    "from surprise import SVD, Dataset\n",
    "\n",
    "class RecommenderSystem:\n",
    "    def __init__(self):\n",
    "        self.model = None\n",
    "\n",
    "    def train_model(self, data):\n",
    "        # Define the SVD model\n",
    "        self.model = SVD()\n",
    "\n",
    "        # Train the model\n",
    "        trainset = data.build_full_trainset()\n",
    "        self.model.fit(trainset)\n",
    "\n",
    "    def predict_rating(self, user_id, item_id):\n",
    "        # Predict the rating for a given user and item\n",
    "        prediction = self.model.predict(user_id, item_id)\n",
    "        return prediction.est\n",
    "\n",
    "# Load the dataset\n",
    "data = Dataset.load_builtin('ml-100k')\n",
    "\n",
    "\n",
    "# Instantiate the RecommenderSystem\n",
    "recommender = RecommenderSystem()\n",
    "\n",
    "# Train the model\n",
    "recommender.train_model(data)\n",
    "\n",
    "# Predict the rating for a user and an item\n",
    "predicted_rating = recommender.predict_rating(user_id='1', item_id='61')\n",
    "print(f\"Predicted Rating: {predicted_rating}\")\n"
   ]
  },
  {
   "cell_type": "markdown",
   "metadata": {},
   "source": [
    "In the above code,\n",
    "```\n",
    "predicted_rating = recommender.predict_rating(user_id='1', item_id='61')\n",
    "\n",
    "```\n",
    "we pass userid, movieid that is available in the dataset and get the predictions. \n",
    "\n",
    "Based on the business logic, this step can be either performed when a API call is made or can also be done by running a batch program in the background and store the predictions in database and cache the top recommendations for a quick access."
   ]
  },
  {
   "cell_type": "markdown",
   "metadata": {},
   "source": [
    "# Summary\n",
    "\n",
    "In summary, recommendation systems can be used to enhance customer engagement and when used effectively lays foundation for long-term customer loyalty.\n",
    "\n",
    "This case study serves as an example of how data-driven decisions can lead to significant business impact. As you consider your own strategies, remember that with careful planning and execution one can create opportunities for growth and innovation."
   ]
  },
  {
   "cell_type": "code",
   "execution_count": null,
   "metadata": {},
   "outputs": [],
   "source": []
  }
 ],
 "metadata": {
  "kernelspec": {
   "display_name": "Python 3 (ipykernel)",
   "language": "python",
   "name": "python3"
  },
  "language_info": {
   "codemirror_mode": {
    "name": "ipython",
    "version": 3
   },
   "file_extension": ".py",
   "mimetype": "text/x-python",
   "name": "python",
   "nbconvert_exporter": "python",
   "pygments_lexer": "ipython3",
   "version": "3.11.7"
  }
 },
 "nbformat": 4,
 "nbformat_minor": 4
}
