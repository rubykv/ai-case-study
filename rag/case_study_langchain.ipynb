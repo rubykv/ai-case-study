{
 "cells": [
  {
   "cell_type": "markdown",
   "metadata": {},
   "source": [
    "# Transforming Data Interaction: An In-Depth Guide to RAG with LangChain\n",
    "\n",
    "In today's data-driven world, the ability to extract relevant information efficiently and present it in a meaningful way is crucial. This is where Retrieval-Augmented Generation (RAG) steps in, combining the power of information retrieval with the generative capabilities of language models. Among the tools advancing this frontier is LangChain, a framework designed to streamline the integration of language models with various data sources.\n",
    "\n",
    "This article delves into the intricacies of RAG, providing a comprehensive guide on how LangChain can be leveraged to enhance data retrieval and generation processes. We will explore the foundational concepts of RAG, its implementation using LangChain, and practical applications that highlight its potential to transform data interaction.\n",
    "\n",
    "By the end of this article, you will have a thorough understanding of how to harness the capabilities of LangChain to build sophisticated RAG systems, making data retrieval more efficient. \n",
    "\n",
    "## History\n",
    "\n",
    "Retrieval-Augmented Generation (RAG) was first introduced in the paper \"Retrieval-Augmented Generation for Knowledge-Intensive NLP Tasks\" by \n",
    "Patrick Lewis, Ethan Perez, Aleksandra Piktus, Fabio Petroni, Vladimir Karpukhin, Naman Goyal, Heinrich Küttler, Mike Lewis, Wen-tau Yih, Tim Rocktäschel, Sebastian Riedel, and Douwe Kiela. The paper was published in 2020 by researchers at Facebook AI.(https://proceedings.neurips.cc/paper/2020/file/6b493230205f780e1bc26945df7481e5-Paper.pdf)\n",
    "\n",
    "### Usecase\n",
    "The introduction of RAG was motivated by the need to address several challenges in natural language processing (NLP), especially in knowledge-intensive tasks such as:\n",
    "\n",
    "Handling Large-Scale Knowledge: Traditional models were limited by the fixed size of their input, making it challenging to incorporate large-scale knowledge directly into the model.\n",
    "\n",
    "Improving Information Retrieval: RAG combines retrieval mechanisms with generative models to dynamically fetch relevant information from a large corpus, improving the ability to answer questions and generate text based on up-to-date information.\n",
    "\n",
    "Enhancing Model Efficiency: By retrieving relevant passages from a large database, RAG reduces the burden on the generative model to memorize all the facts, leading to more efficient and accurate generation.\n",
    "\n",
    "## RAG - Retrieval-Augmented Generation\n",
    "Most of us would have used a LLM for some use cases by now. Either to print a recipe or to get help with scientific concepts and so on. We know by now that if we try to ask a LLM chat tool on any of the recent events, we are more likely to get an out-of-date update or something similar to \"i don't know\". In some cases we also get a message that \"based on my knowledge cut-off date xx-xx-xxxx\" this is the information.\n",
    "\n",
    "Consider a use case where a company has integrated their chat assistant with an LLM but the response a customer recieves is not updated with the recent information, that would be chaotic and won't reflect well on the business. This issue can be solved with a RAG approach.\n",
    "\n",
    "Consider another use case where a chat assistant has to fetch information that is specific to a business and this information is not available in public repositories. We could make use of RAG in this case as well.\n",
    "\n",
    "### Components\n",
    "The main components in a RAG framework are:\n",
    "1. Retriever: Search component that searches a large corpus of data. This could be structured data like something stored in a database or unstructured data like html pages, pdf documents etc.\n",
    "\n",
    "2. Generator: A generative model that uses the retrieved passages as context to produce the final output.\n",
    "\n",
    "![Basic RAG Flow](images/rag.png)\n",
    "\n"
   ]
  },
  {
   "cell_type": "markdown",
   "metadata": {},
   "source": [
    "\n",
    "# RAG frameworks\n",
    "RAG (Retrieval-Augmented Generation) with LangChain is a powerful framework that combines the strengths of retrieval-based models and generative models in natural language processing.\n",
    "\n",
    "LangChain is one of the frameworks that can be used to build a Retrieval-Augmented Generation (RAG) system, but it is not the only way to do so. There are several other methods and tools available to construct a RAG. \n",
    "\n",
    "1. The Hugging Face Transformers library offers pre-trained models for both retrieval and generation tasks.\n",
    "\n",
    "2. Haystack is an open-source framework designed for building NLP pipelines, including RAG systems.\n",
    "\n",
    "3. You can build a RAG system from scratch by developing custom retrieval and generation components.\n",
    "\n",
    "In this article though, we will be focussing on implementing RAG framework using LangChain.\n",
    "\n",
    "# What is LangChain\n",
    "LangChain is a popular framework specifically designed for building applications that leverage language models. It offers extensive tools and integrations for building RAG systems, including support for retrieval models, APIs, and various data sources.\n",
    "\n",
    "Official site -> https://python.langchain.com/v0.2/docs/introduction/\n"
   ]
  },
  {
   "cell_type": "markdown",
   "metadata": {},
   "source": [
    "# RAG with LangChain\n",
    "\n",
    "LangChain documentation walks us through two typical use cases of RAG -\n",
    "\n",
    "1. over unstructured data\n",
    "2. over structured data\n",
    "\n",
    "In this article as well, we will implement both uses cases."
   ]
  },
  {
   "cell_type": "markdown",
   "metadata": {},
   "source": [
    "## RAG over unstructured data\n",
    "\n",
    "Other than retrieval and generation, another key step in a RAG is Data Indexing. Data indexing refers to the process of organizing and structuring the data in a way that allows for efficient data retrieval. \n",
    "\n",
    "\n",
    "![RAG over unstructured data](images/unstructured.png)\n",
    "\n",
    "### Pre-requisites\n",
    "To run the code cells in Jupyter, make sure you have the following dependencies installed in the active python environment,\n",
    "1. Python (If not installed)\n",
    "2. jupyter\n",
    "3. langchain\n",
    "4. langchain_community \n",
    "5. langchain_chroma\n",
    "6. langchain-openai\n",
    "7. langchainhub\n",
    "8. bs4\n",
    "\n",
    "Also, make sure you have retrieved the API keys from OpenAI and Langchain by signing up for both."
   ]
  },
  {
   "cell_type": "markdown",
   "metadata": {},
   "source": [
    " LangChain supports many LLMs, please refer official documentation for the complete list. Since we will be using OpenAI LLM in this article, we will import langchain_openai."
   ]
  },
  {
   "cell_type": "code",
   "execution_count": 21,
   "metadata": {},
   "outputs": [],
   "source": [
    "import getpass\n",
    "import os\n",
    "from langchain_openai import ChatOpenAI\n",
    "\n",
    "\n",
    "os.environ[\"LANGCHAIN_API_KEY\"] = getpass.getpass()\n",
    "os.environ[\"OPENAI_API_KEY\"] = getpass.getpass()\n",
    "\n",
    "model = ChatOpenAI(model=\"gpt-4\")"
   ]
  },
  {
   "cell_type": "markdown",
   "metadata": {},
   "source": [
    "We import a bunch of libraries in this example, most of which are from langchain core and community libraries. A few of them are explained below,\n",
    "\n",
    "bs4 - The bs4 library, also known as Beautiful Soup, is a Python library used for web scraping purposes to pull the data out of HTML and XML files. It provides Pythonic idioms for iterating, searching, and modifying the parse tree of these files. Beautiful Soup helps in navigating and searching the parse tree, and it can automatically convert incoming documents to Unicode and outgoing documents to UTF-8, making it a robust tool for web scraping tasks.\n",
    "\n",
    "langchain_chroma - library that itegrates with Chroma. (official website - https://docs.trychroma.com/getting-started). Chroma is a open-source vector database that can store data in-memory.\n",
    "\n"
   ]
  },
  {
   "cell_type": "code",
   "execution_count": 22,
   "metadata": {},
   "outputs": [],
   "source": [
    "import bs4\n",
    "from langchain import hub\n",
    "from langchain_chroma import Chroma\n",
    "from langchain_community.document_loaders import WebBaseLoader\n",
    "from langchain_core.output_parsers import StrOutputParser\n",
    "from langchain_core.runnables import RunnablePassthrough\n",
    "from langchain_openai import OpenAIEmbeddings\n",
    "from langchain_text_splitters import RecursiveCharacterTextSplitter\n"
   ]
  },
  {
   "cell_type": "markdown",
   "metadata": {},
   "source": [
    "### Loading Data from Web\n",
    "In this example, we will be loading data from the html pages that are available online. We make use of SoupStrainer class of beautiful soup library here to parse a part of a page. (Check official documentation of SoupStrainer to evaluate different ways of parsing a part of the document https://www.crummy.com/software/BeautifulSoup/bs4/doc/#bs4.SoupStrainer)\n",
    "\n",
    "We also make use of DocumentLoader (WebBaseLoader) from LangChain to load the content from given Uris. Again, a wide range of documentloaders are supported by LangChain so please refer their official website for the complete list.(https://python.langchain.com/v0.2/docs/how_to/#document-loaders)\n",
    "\n",
    "The bs_kwargs parameter is a dictionary that specifies additional keyword arguments for BeautifulSoup. In this case, it uses bs4.SoupStrainer to filter the HTML content, only parsing elements with the id \"bodyContent\". This means that only these parts of the HTML document will be processed, making the parsing more efficient by ignoring irrelevant parts of the page.\n",
    "\n",
    "Finally, the docs variable is assigned the result of calling the load method on the loader object"
   ]
  },
  {
   "cell_type": "code",
   "execution_count": 23,
   "metadata": {},
   "outputs": [],
   "source": [
    "# Load, chunk and index the contents of the blog.\n",
    "loader = WebBaseLoader(\n",
    "    web_paths=([\"https://en.wikipedia.org/wiki/Great_cuckoo-dove\",\"https://en.wikipedia.org/wiki/Columbidae\"]),\n",
    "    bs_kwargs=dict(\n",
    "        parse_only=bs4.SoupStrainer(\n",
    "            id=\"bodyContent\"\n",
    "        )\n",
    "    ),\n",
    ")\n",
    "docs = loader.load()"
   ]
  },
  {
   "cell_type": "markdown",
   "metadata": {},
   "source": [
    "### Splitting\n",
    "\n",
    "Now that we have loaded the documents, its time to split the documents into smaller chunks.\n",
    "\n",
    "![split data](images/indexing.png)\n",
    "\n",
    "While splitting a document, it's important to preserve the context of the document so that upon retrieval the most appropriate data can be fetched from the store.\n",
    "\n",
    "Assume that the document we just loaded has 200 sentences, when we split the document using chunk_size=1000 - it means each chunk will have 1000 tokens. Also, to preserve the context, the last 200 tokens of this first chunk will also be added as the first 200 tokens in the second chunk . This is achieved by setting chunk_overlap=200.\n",
    "\n",
    "By enabling the add_start_index parameter, the system will keep track of the exact position (character index) where each segment or split of the document begins within the original document. This starting position is then stored as a metadata attribute called \"start_index\" for each split segment. This helps maintain the context and location of each segment relative to the original document, facilitating tasks such as text analysis, searching, and reconstruction of the document.\n",
    "\n",
    "\"splits\" variable below holds the chunks of document that we just split.\n",
    "\n",
    "Next step is to embed these chunks and insert them into a vectorstore which in our case is Chroma. (Check my article on Embeddings if you are new to this word https://medium.com/gitconnected/what-are-text-embeddings-and-how-do-they-work-6107bd52998b)\n",
    "\n",
    "Using Chroma class - we can embed and store the chunks all in one go."
   ]
  },
  {
   "cell_type": "code",
   "execution_count": 40,
   "metadata": {},
   "outputs": [],
   "source": [
    "text_splitter = RecursiveCharacterTextSplitter(chunk_size=1000, chunk_overlap=200, add_start_index=True)\n",
    "splits = text_splitter.split_documents(docs)\n",
    "vectorstore = Chroma.from_documents(documents=splits, embedding=OpenAIEmbeddings())"
   ]
  },
  {
   "cell_type": "markdown",
   "metadata": {},
   "source": [
    "### Retrieval\n",
    "\n",
    "Once document is loaded, split, embedded and stored in Chroma, its time to work on the retrieval.\n",
    "\n",
    "retriever = vectorstore.as_retriever() initializes a VectorStoreRetriever object from an existing vectorstore instance. This is achieved by calling the as_retriever method on the vectorstore object. The as_retriever method is designed to convert the vectorstore into a retriever, which is a specialized class used for retrieving documents based on certain search criteria."
   ]
  },
  {
   "cell_type": "code",
   "execution_count": 41,
   "metadata": {},
   "outputs": [],
   "source": [
    "# Retrieve and generate using the relevant snippets of the blog.\n",
    "retriever = vectorstore.as_retriever()"
   ]
  },
  {
   "cell_type": "markdown",
   "metadata": {},
   "source": [
    "### Generation - without template\n",
    "Using retriever object we can call invoke method to pass the query string. This would return a Document object.(https://api.python.langchain.com/en/latest/documents/langchain_core.documents.base.Document.html#langchain_core.documents.base.Document)\n",
    "\n",
    "Note that - while the query string is a valid question (related to the documents that we loaded), we will get a valid response but for an invalid question, eg: \"What is peacock\"- we will get an incorrect response. (This issue is solved in the next example.)"
   ]
  },
  {
   "cell_type": "code",
   "execution_count": 43,
   "metadata": {},
   "outputs": [
    {
     "name": "stdout",
     "output_type": "stream",
     "text": [
      "{'source': 'https://en.wikipedia.org/wiki/Great_cuckoo-dove', 'start_index': 896}\n"
     ]
    }
   ],
   "source": [
    "retrieved_docs = retriever.invoke(\"What is great cuckoo-dove\")\n",
    "print(retrieved_docs[0].metadata)\n",
    "print(retrieved_docs[0].page_content)"
   ]
  },
  {
   "cell_type": "markdown",
   "metadata": {},
   "source": [
    "### Generation - with template\n",
    "\n",
    "LangChain provides prompt templates that's stored in hub. In the below example we are using a prompt -> https://smith.langchain.com/hub/rlm/rag-prompt. This prompt instructs the LLM to give a standard response when it cannot find a meaningful response for the input query.\n",
    "\n",
    "If we ask \"What is Peacock\" in input query string now, we would get a standard response - 'The context does not provide information on what Peacock is.'\n",
    "\n",
    "From Official Documentation:\n",
    "1. retriever | format_docs passes the question through the retriever, generating Document objects, and then to format_docs to generate strings;\n",
    "2. RunnablePassthrough() passes through the input question unchanged.\n"
   ]
  },
  {
   "cell_type": "code",
   "execution_count": 34,
   "metadata": {},
   "outputs": [
    {
     "data": {
      "text/plain": [
       "'The context does not provide information on what Peacock is.'"
      ]
     },
     "execution_count": 34,
     "metadata": {},
     "output_type": "execute_result"
    }
   ],
   "source": [
    "\n",
    "prompt = hub.pull(\"rlm/rag-prompt\")\n",
    "\n",
    "def format_docs(docs):\n",
    "    return \"\\n\\n\".join(doc.page_content for doc in docs)\n",
    "\n",
    "rag_chain = (\n",
    "    {\"context\": retriever | format_docs, \"question\": RunnablePassthrough()}\n",
    "    | prompt\n",
    "    | model\n",
    "    | StrOutputParser()\n",
    ")\n",
    "\n",
    "rag_chain.invoke(\"What is Peacock\")"
   ]
  },
  {
   "cell_type": "markdown",
   "metadata": {},
   "source": [
    "### Clean up\n",
    "\n",
    "Once, all the above cells are executed, lets delete the stored data from the vectorstore."
   ]
  },
  {
   "cell_type": "code",
   "execution_count": 44,
   "metadata": {},
   "outputs": [],
   "source": [
    "vectorstore.delete_collection()"
   ]
  },
  {
   "cell_type": "markdown",
   "metadata": {},
   "source": [
    "## RAG over structured data"
   ]
  },
  {
   "cell_type": "markdown",
   "metadata": {},
   "source": [
    "Implementing RAG over structured data means we will have to pull data from a database and to do that we would write SQL queries. Basic workflow of this task is shown below,\n",
    "\n",
    "\n",
    "![structured data](images/structured.png)\n"
   ]
  },
  {
   "cell_type": "markdown",
   "metadata": {},
   "source": [
    "Make sure to install the following dependencies\n",
    "\n",
    "1. <python-package..> -m pip install --upgrade --quiet langchain langchain-community langchain-openai faiss-cpu\n",
    "2. <python-package..> -m pip install psycopg2-binary"
   ]
  },
  {
   "cell_type": "markdown",
   "metadata": {},
   "source": [
    "There are a number of databases that we can use for this purpose. In this article, we are using PostgreSQL as our database so if you do not have it installed already, install ot from here -> https://www.postgresql.org/download/macosx/\n",
    "\n",
    "In the below code cell, we are simply connecting to the database and print some statements to make sure our connection works.\n",
    "\n",
    "We are also using SQLDatabase class - a SQLAlchemy(ORM library for Python) wrapper, it creates an engine from the given database uri.\n",
    "\n",
    "Run the following scripts to create a table and populate it with some dummy data\n",
    "\n",
    "```\n",
    "CREATE TABLE employees (\n",
    "postgres(#     id SERIAL PRIMARY KEY,\n",
    "postgres(#     name VARCHAR(100),\n",
    "postgres(#     age INTEGER\n",
    "postgres(# );\n",
    "\n",
    "```\n",
    "\n",
    "```\n",
    "INSERT INTO employees (id, name, age) VALUES (1, 'John Doe', 30);\n",
    "INSERT INTO employees (id, name, age) VALUES (2, 'Jane Doe', 20);\n",
    "INSERT INTO employees (id, name, age) VALUES (3, 'Lily', 20);\n",
    "```"
   ]
  },
  {
   "cell_type": "code",
   "execution_count": 63,
   "metadata": {},
   "outputs": [
    {
     "name": "stdout",
     "output_type": "stream",
     "text": [
      "postgresql\n",
      "['employees']\n"
     ]
    }
   ],
   "source": [
    "from langchain_community.utilities import SQLDatabase\n",
    "\n",
    "db = SQLDatabase.from_uri(\"postgresql://localhost:5432/postgres\")\n",
    "print(db.dialect)\n",
    "print(db.get_usable_table_names())"
   ]
  },
  {
   "cell_type": "markdown",
   "metadata": {},
   "source": [
    "In th next code cell, we are creating a chain that would first write a SQL query from the given input question and then pass the output to execute_query. We then execute this chain and print the response.\n",
    "\n",
    "Let's analyse what each on of these steps do - \n",
    "\n",
    "1. write query: we use the built-in chain from LangChain create_sql_query_chain to convert an input to a SQL query\n",
    "2. execute_query: We make use of QuerySQLDataBaseTool class (Tool for querying a SQL database) to execute the generated SQL query.\n",
    "3. create a chain using #1 and #2. \n",
    "\n",
    "### What is a chain?\n",
    "In LangChain, a \"chain\" refers to a sequence of operations or steps that are linked together to accomplish a specific task using language models. Each step in the chain can involve different types of processing, such as retrieving information, transforming data, or generating responses. \n",
    "\n",
    "Chains allow for the composition of multiple steps into a coherent process. This can involve sequential steps where the output of one step is passed to the next, or parallel steps that execute simultaneously.\n",
    "\n",
    "In the below code, we are creating a chain named \"chain\" \n",
    "`chain = write_query | execute_query`\n",
    "\n",
    "where, \"|\" is used to create a chain with step #1 and step #2."
   ]
  },
  {
   "cell_type": "code",
   "execution_count": 62,
   "metadata": {},
   "outputs": [
    {
     "name": "stdout",
     "output_type": "stream",
     "text": [
      "[('Jane Doe',), ('Lily',)]\n"
     ]
    }
   ],
   "source": [
    "from langchain.chains import create_sql_query_chain\n",
    "from langchain_community.tools.sql_database.tool import QuerySQLDataBaseTool\n",
    "\n",
    "\n",
    "execute_query = QuerySQLDataBaseTool(db=db)\n",
    "write_query = create_sql_query_chain(model, db)\n",
    "chain = write_query | execute_query\n",
    "response = chain.invoke({\"question\": \"Name the employees who are in their twenties?\"})\n",
    "print(response)"
   ]
  },
  {
   "cell_type": "markdown",
   "metadata": {},
   "source": [
    "Another way of implementing RAG over structured data using LangChain is to use agents intead of chains. Please check the official documentation to go through the advantages of using one over the other."
   ]
  },
  {
   "cell_type": "markdown",
   "metadata": {},
   "source": [
    "In conclusion, implementing RAG using LangChain can enhance the efficiency and accuracy of information retrieval processes, providing more relevant and contextually appropriate responses. As we have explored throughout this article, the flexibility and power of LangChain make it a valuable tool for developers and researchers.\n",
    "\n",
    "Please do remember to consider the threats with respect to giving a chain/agent the permission to query data directly from your databases. Make sure to set the permissions correctly."
   ]
  }
 ],
 "metadata": {
  "kernelspec": {
   "display_name": "Python 3 (ipykernel)",
   "language": "python",
   "name": "python3"
  },
  "language_info": {
   "codemirror_mode": {
    "name": "ipython",
    "version": 3
   },
   "file_extension": ".py",
   "mimetype": "text/x-python",
   "name": "python",
   "nbconvert_exporter": "python",
   "pygments_lexer": "ipython3",
   "version": "3.11.7"
  }
 },
 "nbformat": 4,
 "nbformat_minor": 4
}
